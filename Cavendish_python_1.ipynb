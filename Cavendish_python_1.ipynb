{
 "cells": [
  {
   "cell_type": "markdown",
   "id": "a0b2edb4-dae2-45d0-8cba-c807c60cb944",
   "metadata": {},
   "source": [
    "# Calcolo dei Massimi e dei Minimi\n",
    "N. Bagnasco\n",
    "\n",
    "Input: datimm.csv\n"
   ]
  },
  {
   "cell_type": "code",
   "execution_count": 163,
   "id": "5966738e-25f5-45cd-89d2-706518d7afcc",
   "metadata": {},
   "outputs": [
    {
     "data": {
      "text/markdown": [
       "## Calcolo Max e Min: risultati"
      ],
      "text/plain": [
       "<IPython.core.display.Markdown object>"
      ]
     },
     "metadata": {},
     "output_type": "display_data"
    },
    {
     "name": "stdout",
     "output_type": "stream",
     "text": [
      "\n"
     ]
    },
    {
     "data": {
      "text/markdown": [
       "### Dataframe"
      ],
      "text/plain": [
       "<IPython.core.display.Markdown object>"
      ]
     },
     "metadata": {},
     "output_type": "display_data"
    },
    {
     "data": {
      "text/html": [
       "<div>\n",
       "<style scoped>\n",
       "    .dataframe tbody tr th:only-of-type {\n",
       "        vertical-align: middle;\n",
       "    }\n",
       "\n",
       "    .dataframe tbody tr th {\n",
       "        vertical-align: top;\n",
       "    }\n",
       "\n",
       "    .dataframe thead th {\n",
       "        text-align: right;\n",
       "    }\n",
       "</style>\n",
       "<table border=\"1\" class=\"dataframe\">\n",
       "  <thead>\n",
       "    <tr style=\"text-align: right;\">\n",
       "      <th></th>\n",
       "      <th>Massimi (x)</th>\n",
       "      <th>Massimi (y)</th>\n",
       "      <th>Minimi (x)</th>\n",
       "      <th>Minimi (y)</th>\n",
       "    </tr>\n",
       "  </thead>\n",
       "  <tbody>\n",
       "    <tr>\n",
       "      <th>0</th>\n",
       "      <td>540.0</td>\n",
       "      <td>26.4</td>\n",
       "      <td>260.0</td>\n",
       "      <td>10.6</td>\n",
       "    </tr>\n",
       "    <tr>\n",
       "      <th>1</th>\n",
       "      <td>1060.0</td>\n",
       "      <td>23.8</td>\n",
       "      <td>780.0</td>\n",
       "      <td>14.3</td>\n",
       "    </tr>\n",
       "    <tr>\n",
       "      <th>2</th>\n",
       "      <td>1580.0</td>\n",
       "      <td>22.2</td>\n",
       "      <td>1320.0</td>\n",
       "      <td>16.3</td>\n",
       "    </tr>\n",
       "    <tr>\n",
       "      <th>3</th>\n",
       "      <td>2120.0</td>\n",
       "      <td>21.2</td>\n",
       "      <td>1840.0</td>\n",
       "      <td>17.6</td>\n",
       "    </tr>\n",
       "    <tr>\n",
       "      <th>4</th>\n",
       "      <td>2640.0</td>\n",
       "      <td>20.7</td>\n",
       "      <td>2380.0</td>\n",
       "      <td>18.4</td>\n",
       "    </tr>\n",
       "    <tr>\n",
       "      <th>5</th>\n",
       "      <td>3180.0</td>\n",
       "      <td>20.3</td>\n",
       "      <td>2920.0</td>\n",
       "      <td>19.0</td>\n",
       "    </tr>\n",
       "    <tr>\n",
       "      <th>6</th>\n",
       "      <td>3700.0</td>\n",
       "      <td>20.1</td>\n",
       "      <td>3440.0</td>\n",
       "      <td>19.3</td>\n",
       "    </tr>\n",
       "  </tbody>\n",
       "</table>\n",
       "</div>"
      ],
      "text/plain": [
       "   Massimi (x)  Massimi (y)  Minimi (x)  Minimi (y)\n",
       "0        540.0         26.4       260.0        10.6\n",
       "1       1060.0         23.8       780.0        14.3\n",
       "2       1580.0         22.2      1320.0        16.3\n",
       "3       2120.0         21.2      1840.0        17.6\n",
       "4       2640.0         20.7      2380.0        18.4\n",
       "5       3180.0         20.3      2920.0        19.0\n",
       "6       3700.0         20.1      3440.0        19.3"
      ]
     },
     "metadata": {},
     "output_type": "display_data"
    },
    {
     "data": {
      "text/markdown": [
       "### LaTeX Table"
      ],
      "text/plain": [
       "<IPython.core.display.Markdown object>"
      ]
     },
     "metadata": {},
     "output_type": "display_data"
    },
    {
     "name": "stdout",
     "output_type": "stream",
     "text": [
      "\n",
      "\\begin{table}[ht]\n",
      "\\centering\n",
      "\\caption{Coordinate di massimi e minimi}\n",
      "\\label{fit502}\n",
      "\\begin{tabular}{rrrr}\n",
      "\\toprule\n",
      " Massimi (x) &  Massimi (y) &  Minimi (x) &  Minimi (y) \\\\\n",
      "\\midrule\n",
      "       540.0 &         26.4 &       260.0 &        10.6 \\\\\n",
      "      1060.0 &         23.8 &       780.0 &        14.3 \\\\\n",
      "      1580.0 &         22.2 &      1320.0 &        16.3 \\\\\n",
      "      2120.0 &         21.2 &      1840.0 &        17.6 \\\\\n",
      "      2640.0 &         20.7 &      2380.0 &        18.4 \\\\\n",
      "      3180.0 &         20.3 &      2920.0 &        19.0 \\\\\n",
      "      3700.0 &         20.1 &      3440.0 &        19.3 \\\\\n",
      "\\bottomrule\n",
      "\\end{tabular}\n",
      "\\end{table}\n",
      "\n"
     ]
    },
    {
     "data": {
      "text/markdown": [
       "### Figura in LaTeX"
      ],
      "text/plain": [
       "<IPython.core.display.Markdown object>"
      ]
     },
     "metadata": {},
     "output_type": "display_data"
    },
    {
     "name": "stdout",
     "output_type": "stream",
     "text": [
      "\n",
      "\\begin{figure}[!ht]\n",
      "\\includegraphics[width=12cm]{ fig5849.png }\n",
      "\\centering\n",
      "\\caption{Scatter dei dati, con minimi e massimi evidenziati}\n",
      "\\end{figure}\n",
      "\n",
      "\n",
      "\n"
     ]
    },
    {
     "data": {
      "text/markdown": [
       "### Plot"
      ],
      "text/plain": [
       "<IPython.core.display.Markdown object>"
      ]
     },
     "metadata": {},
     "output_type": "display_data"
    },
    {
     "name": "stdout",
     "output_type": "stream",
     "text": [
      "\n"
     ]
    },
    {
     "data": {
      "image/png": "[encoded data removed]",
      "text/plain": [
       "<Figure size 1080x720 with 1 Axes>"
      ]
     },
     "metadata": {
      "needs_background": "light"
     },
     "output_type": "display_data"
    }
   ],
   "source": [
    "import numpy as np\n",
    "import scipy\n",
    "import csv\n",
    "import matplotlib.pyplot as plt\n",
    "from IPython.display import display, HTML, Markdown\n",
    "import pandas as pd\n",
    "from random import randint\n",
    "\n",
    "\n",
    "#Livello di criticità es. (.05)\n",
    "alpha=.05\n",
    "unma='cm'\n",
    "unmb='N'\n",
    "\n",
    "#Importo dati.csv con tre colonne (x, y, yerr) in tre liste\n",
    "\n",
    "data = csv.reader(open('datimm.csv', 'r'), delimiter=\",\", quotechar='|')\n",
    "lxcol, lycol, lyerrcol = [], [], []\n",
    "\n",
    "for row in data:\n",
    "    lxcol.append(row[0])\n",
    "    lycol.append(row[1])\n",
    "   # lyerrcol.append(row[2])\n",
    "    \n",
    "#Converto in array\n",
    "xxdata = np.asarray(lxcol, dtype=np.float64)\n",
    "yydata = np.asarray(lycol, dtype=np.float64)\n",
    "#yerr = np.asarray(lyerrcol, dtype=np.float64)\n",
    "\n",
    "peaks, _ = find_peaks(yydata)\n",
    "valleys, _ = find_peaks(inv_yydata)\n",
    "\n",
    "xxpea=xxdata[peaks]\n",
    "yypea=yydata[peaks]\n",
    "inv_yydata = yydata*(-1)\n",
    "xxvall=xxdata[valleys]\n",
    "yyvall=yydata[valleys]\n",
    "\n",
    "###PLOT\n",
    "\n",
    "plt.rcParams['figure.figsize'] = [15, 10]\n",
    "randfig=str(randint(0, 9999))\n",
    "namefig='fig'+randfig+'.png'\n",
    "fig, ax = plt.subplots()\n",
    "ax.set_xlabel('Asse x')\n",
    "ax.set_ylabel('Asse y')\n",
    "ax.set_title('Distribuzione sperimentale con minimi e massimi evidenziati')\n",
    "\n",
    "plt.grid(which='both',linestyle='--', linewidth=0.6)\n",
    "plt.errorbar(xxdata,yydata,fmt='.',color='black')\n",
    "plt.plot(xxpea, yypea, \"rx\",color='orangered', mew=2)\n",
    "plt.plot(xxvall, yyvall, \"x\",color='blue', mew=2)\n",
    "plt.legend(['Massimi', 'Minimi', 'Campione'])\n",
    "#plt.savefig(namefig)\n",
    "\n",
    "\n",
    "nppeaksx=np.array(xxdata[peaks])\n",
    "nppeaksy=np.array(yydata[peaks])\n",
    "npvalleysx=np.array(xxdata[valleys])\n",
    "npvalleysy=np.array(yydata[valleys])\n",
    "\n",
    "df = pd.DataFrame({})\n",
    "df['Massimi (x)'] = nppeaksx.tolist()\n",
    "df['Massimi (y)'] = nppeaksy.tolist()\n",
    "df['Minimi (x)'] = npvalleysx.tolist()\n",
    "df['Minimi (y)'] = npvalleysy.tolist()\n",
    "\n",
    "display(Markdown('## Calcolo Max e Min: risultati'))\n",
    "print()\n",
    "display(Markdown('### Dataframe'))\n",
    "display(df)\n",
    "display(Markdown('### LaTeX Table'))\n",
    "print()\n",
    "print(df.to_latex(index=False,  caption='Coordinate di massimi e minimi', bold_rows=True, label=indexfit, position='ht'))\n",
    "\n",
    "#LaTeX image handling\n",
    "display(Markdown('### Figura in LaTeX'))\n",
    "print(\"\"\"\n",
    "\\\\begin{figure}[!ht]\n",
    "\\includegraphics[width=12cm]{\"\"\",namefig,\"\"\"}\n",
    "\\centering\n",
    "\\caption{Scatter dei dati, con minimi e massimi evidenziati}\n",
    "\\end{figure}\n",
    "\n",
    "\"\"\")\n",
    "print()\n",
    "display(Markdown('### Plot'))\n",
    "print()\n",
    " "
   ]
  },
  {
   "cell_type": "code",
   "execution_count": 178,
   "id": "0f43bfcb-94ff-43d0-89ac-13ea903af8aa",
   "metadata": {},
   "outputs": [
    {
     "name": "stdout",
     "output_type": "stream",
     "text": [
      "[520. 540. 520. 540. 540. 520. 540. 540.]\n",
      "Periodo medio 532.5\n"
     ]
    }
   ],
   "source": [
    "period=[]\n",
    "for i in range(1,len(nppeaksx)-2):\n",
    "    n=i+1\n",
    "    dt=nppeaksx[n]-nppeaksx[i]\n",
    "    period.append(dt)\n",
    "    i+=1\n",
    "for i in range(1,len(npvalleysx)-):\n",
    "    n=i+1\n",
    "    dt=npvalleysx[n]-npvalleysx[i]\n",
    "    period.append(dt)\n",
    "    i+=1\n",
    "\n",
    "nperiod=np.array(period)\n",
    "print(nperiod)\n",
    "peravg=np.average(nperiod)\n",
    "print('Periodo medio',peravg)"
   ]
  },
  {
   "cell_type": "code",
   "execution_count": null,
   "id": "12ed7dc2-ee9f-40d8-b44f-47e5e052cad3",
   "metadata": {},
   "outputs": [],
   "source": []
  }
 ],
 "metadata": {
  "kernelspec": {
   "display_name": "Python 3",
   "language": "python",
   "name": "python3"
  },
  "language_info": {
   "codemirror_mode": {
    "name": "ipython",
    "version": 3
   },
   "file_extension": ".py",
   "mimetype": "text/x-python",
   "name": "python",
   "nbconvert_exporter": "python",
   "pygments_lexer": "ipython3",
   "version": "3.8.8"
  }
 },
 "nbformat": 4,
 "nbformat_minor": 5
}
